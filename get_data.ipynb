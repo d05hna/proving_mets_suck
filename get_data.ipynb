{
 "cells": [
  {
   "cell_type": "code",
   "execution_count": 1,
   "metadata": {},
   "outputs": [],
   "source": [
    "import pandas as pd \n",
    "import pybaseball as pb"
   ]
  },
  {
   "cell_type": "code",
   "execution_count": 2,
   "metadata": {},
   "outputs": [
    {
     "ename": "ValueError",
     "evalue": "Player ID is required. If you need to find a player's id, try pybaseball.playerid_lookup(last_name, first_name) and use their key_mlbam. If you want statcast data for all players, try the statcast() function.",
     "output_type": "error",
     "traceback": [
      "\u001b[0;31m---------------------------------------------------------------------------\u001b[0m",
      "\u001b[0;31mValueError\u001b[0m                                Traceback (most recent call last)",
      "Cell \u001b[0;32mIn[2], line 1\u001b[0m\n\u001b[0;32m----> 1\u001b[0m data \u001b[38;5;241m=\u001b[39m \u001b[43mpb\u001b[49m\u001b[38;5;241;43m.\u001b[39;49m\u001b[43mstatcast_batter\u001b[49m\u001b[43m(\u001b[49m\u001b[38;5;124;43m'\u001b[39;49m\u001b[38;5;124;43m2019-03-01\u001b[39;49m\u001b[38;5;124;43m'\u001b[39;49m\u001b[43m,\u001b[49m\u001b[43m \u001b[49m\u001b[38;5;124;43m'\u001b[39;49m\u001b[38;5;124;43m2024-05-20\u001b[39;49m\u001b[38;5;124;43m'\u001b[39;49m\u001b[43m)\u001b[49m\n",
      "File \u001b[0;32m~/anaconda3/envs/baseball/lib/python3.9/site-packages/pybaseball/statcast_batter.py:21\u001b[0m, in \u001b[0;36mstatcast_batter\u001b[0;34m(start_dt, end_dt, player_id)\u001b[0m\n\u001b[1;32m     11\u001b[0m \u001b[38;5;28;01mdef\u001b[39;00m \u001b[38;5;21mstatcast_batter\u001b[39m(start_dt: Optional[\u001b[38;5;28mstr\u001b[39m] \u001b[38;5;241m=\u001b[39m \u001b[38;5;28;01mNone\u001b[39;00m, end_dt: Optional[\u001b[38;5;28mstr\u001b[39m] \u001b[38;5;241m=\u001b[39m \u001b[38;5;28;01mNone\u001b[39;00m, player_id: Optional[\u001b[38;5;28mint\u001b[39m] \u001b[38;5;241m=\u001b[39m \u001b[38;5;28;01mNone\u001b[39;00m) \u001b[38;5;241m-\u001b[39m\u001b[38;5;241m>\u001b[39m pd\u001b[38;5;241m.\u001b[39mDataFrame:\n\u001b[1;32m     12\u001b[0m \u001b[38;5;250m    \u001b[39m\u001b[38;5;124;03m\"\"\"\u001b[39;00m\n\u001b[1;32m     13\u001b[0m \u001b[38;5;124;03m    Pulls statcast pitch-level data from Baseball Savant for a given batter.\u001b[39;00m\n\u001b[1;32m     14\u001b[0m \n\u001b[0;32m   (...)\u001b[0m\n\u001b[1;32m     19\u001b[0m \u001b[38;5;124;03m            finding the correct player, and selecting their key_mlbam.\u001b[39;00m\n\u001b[1;32m     20\u001b[0m \u001b[38;5;124;03m    \"\"\"\u001b[39;00m\n\u001b[0;32m---> 21\u001b[0m     start_dt, end_dt, _ \u001b[38;5;241m=\u001b[39m \u001b[43msanitize_input\u001b[49m\u001b[43m(\u001b[49m\u001b[43mstart_dt\u001b[49m\u001b[43m,\u001b[49m\u001b[43m \u001b[49m\u001b[43mend_dt\u001b[49m\u001b[43m,\u001b[49m\u001b[43m \u001b[49m\u001b[43mplayer_id\u001b[49m\u001b[43m)\u001b[49m\n\u001b[1;32m     23\u001b[0m     \u001b[38;5;66;03m# sanitize_input will guarantee these are not None\u001b[39;00m\n\u001b[1;32m     24\u001b[0m     \u001b[38;5;28;01massert\u001b[39;00m start_dt\n",
      "File \u001b[0;32m~/anaconda3/envs/baseball/lib/python3.9/site-packages/pybaseball/utils.py:264\u001b[0m, in \u001b[0;36msanitize_input\u001b[0;34m(start_dt, end_dt, player_id)\u001b[0m\n\u001b[1;32m    261\u001b[0m \u001b[38;5;28;01mdef\u001b[39;00m \u001b[38;5;21msanitize_input\u001b[39m(start_dt: Optional[\u001b[38;5;28mstr\u001b[39m], end_dt: Optional[\u001b[38;5;28mstr\u001b[39m], player_id: Optional[\u001b[38;5;28mint\u001b[39m]) \u001b[38;5;241m-\u001b[39m\u001b[38;5;241m>\u001b[39m Tuple[\u001b[38;5;28mstr\u001b[39m, \u001b[38;5;28mstr\u001b[39m, \u001b[38;5;28mstr\u001b[39m]:\n\u001b[1;32m    262\u001b[0m \t\u001b[38;5;66;03m# error if no player ID provided\u001b[39;00m\n\u001b[1;32m    263\u001b[0m \t\u001b[38;5;28;01mif\u001b[39;00m player_id \u001b[38;5;129;01mis\u001b[39;00m \u001b[38;5;28;01mNone\u001b[39;00m:\n\u001b[0;32m--> 264\u001b[0m \t\t\u001b[38;5;28;01mraise\u001b[39;00m \u001b[38;5;167;01mValueError\u001b[39;00m(\n\u001b[1;32m    265\u001b[0m \t\t\t\u001b[38;5;124m\"\u001b[39m\u001b[38;5;124mPlayer ID is required. If you need to find a player\u001b[39m\u001b[38;5;124m'\u001b[39m\u001b[38;5;124ms id, try \u001b[39m\u001b[38;5;124m\"\u001b[39m\n\u001b[1;32m    266\u001b[0m \t\t\t\u001b[38;5;124m\"\u001b[39m\u001b[38;5;124mpybaseball.playerid_lookup(last_name, first_name) and use their key_mlbam. \u001b[39m\u001b[38;5;124m\"\u001b[39m\n\u001b[1;32m    267\u001b[0m \t\t\t\u001b[38;5;124m\"\u001b[39m\u001b[38;5;124mIf you want statcast data for all players, try the statcast() function.\u001b[39m\u001b[38;5;124m\"\u001b[39m\n\u001b[1;32m    268\u001b[0m \t\t)\n\u001b[1;32m    269\u001b[0m \t\u001b[38;5;66;03m# this id should be a string to place inside a url\u001b[39;00m\n\u001b[1;32m    270\u001b[0m \tplayer_id_str \u001b[38;5;241m=\u001b[39m \u001b[38;5;28mstr\u001b[39m(player_id)\n",
      "\u001b[0;31mValueError\u001b[0m: Player ID is required. If you need to find a player's id, try pybaseball.playerid_lookup(last_name, first_name) and use their key_mlbam. If you want statcast data for all players, try the statcast() function."
     ]
    }
   ],
   "source": [
    "data = pb.statcast_batter('2019-03-01', '2024-05-20')"
   ]
  },
  {
   "cell_type": "code",
   "execution_count": null,
   "metadata": {},
   "outputs": [],
   "source": []
  },
  {
   "cell_type": "code",
   "execution_count": 12,
   "metadata": {},
   "outputs": [],
   "source": [
    "def bref_batting(years,Player):\n",
    "    s = years[0]\n",
    "    e = years[1]\n",
    "\n",
    "    bd = pb.batting_stats_bref(s,e,Player)\n",
    "    return(bd)\n",
    "    "
   ]
  },
  {
   "cell_type": "code",
   "execution_count": 23,
   "metadata": {},
   "outputs": [],
   "source": [
    "pa = pb.playerid_lookup(\"alonso\",\"pete\")[\"key_mlbam\"][0]"
   ]
  },
  {
   "cell_type": "code",
   "execution_count": 34,
   "metadata": {},
   "outputs": [],
   "source": [
    "seasons = {}\n",
    "for s in ([\"2019\",\"2020\",\"2021\",\"2022\",\"2023\",\"2024\"]):\n",
    "    seasons[s] = pb.batting_stats_bref(s)\n",
    "    \n"
   ]
  },
  {
   "cell_type": "code",
   "execution_count": 13,
   "metadata": {},
   "outputs": [],
   "source": [
    "id = pb.playerid_lookup(\"alonso\",\"pete\")[\"key_mlbam\"][0]"
   ]
  },
  {
   "cell_type": "code",
   "execution_count": 16,
   "metadata": {},
   "outputs": [
    {
     "name": "stdout",
     "output_type": "stream",
     "text": [
      "Gathering Player Data\n"
     ]
    }
   ],
   "source": []
  },
  {
   "cell_type": "code",
   "execution_count": 19,
   "metadata": {},
   "outputs": [],
   "source": [
    "data.to_csv(\"PETER.csv\")"
   ]
  }
 ],
 "metadata": {
  "kernelspec": {
   "display_name": "BaseBall",
   "language": "python",
   "name": "baseball"
  },
  "language_info": {
   "codemirror_mode": {
    "name": "ipython",
    "version": 3
   },
   "file_extension": ".py",
   "mimetype": "text/x-python",
   "name": "python",
   "nbconvert_exporter": "python",
   "pygments_lexer": "ipython3",
   "version": "3.9.18"
  }
 },
 "nbformat": 4,
 "nbformat_minor": 2
}
